{
 "cells": [
  {
   "attachments": {},
   "cell_type": "markdown",
   "metadata": {},
   "source": [
    "## Importing Packages"
   ]
  },
  {
   "cell_type": "code",
   "execution_count": 47,
   "metadata": {},
   "outputs": [],
   "source": [
    "from pulp import *\n",
    "import pandas as pd\n",
    "import numpy as np\n",
    "import calendar"
   ]
  },
  {
   "attachments": {},
   "cell_type": "markdown",
   "metadata": {},
   "source": [
    "## Declaring Variables"
   ]
  },
  {
   "cell_type": "code",
   "execution_count": 37,
   "metadata": {},
   "outputs": [],
   "source": [
    "time = np.arange(1, 13)   # time corresponding to each month\n",
    "\n",
    "workforce_bfr = 64000       # initial number of people in workforce\n",
    "inventory_bfr = 1000000     # initial amount of inventory\n",
    "\n",
    "work_days = np.linspace(20, 20, 12)    # working days array\n",
    "demand = [144000000, 134400000, 123600000, 144000000, 108000000, 72000000, 72000000, 72000000, 120000000, 108000000, 144000000, 120000000]  # demand array\n",
    "\n",
    "\n",
    "num_hired = {i: LpVariable(name=f\"num_hired{i}\", lowBound=0) for i in range(1, 13)}             # number of people hired\n",
    "num_fired = {i: LpVariable(name=f\"num_fired{i}\", lowBound=0) for i in range(1, 13)}             # number of people fired\n",
    "num_inventory = {i: LpVariable(name=f\"num_inventory{i}\", lowBound=0) for i in range(0, 13)}     # inventory level\n",
    "num_production = {i: LpVariable(name=f\"num_production{i}\", lowBound=0) for i in range(1, 13)}   # production level\n",
    "num_workforce = {i: LpVariable(name=f\"num_workforce{i}\", lowBound=0) for i in range(0, 13)}     # number of people in the workforce\n",
    "num_subcontract = {i: LpVariable(name=f\"num_subcontract{i}\", lowBound=0) for i in range(1, 13)} # number of units subcontracted"
   ]
  },
  {
   "attachments": {},
   "cell_type": "markdown",
   "metadata": {},
   "source": [
    "## Initializing the Model"
   ]
  },
  {
   "cell_type": "code",
   "execution_count": 38,
   "metadata": {},
   "outputs": [],
   "source": [
    "# Model\n",
    "model = LpProblem(name=\"cost-problem\", sense=LpMinimize)"
   ]
  },
  {
   "attachments": {},
   "cell_type": "markdown",
   "metadata": {},
   "source": [
    "## Adding Constraints to the Model"
   ]
  },
  {
   "cell_type": "code",
   "execution_count": 41,
   "metadata": {},
   "outputs": [],
   "source": [
    "# Non-negative constraints\n",
    "for t in range(1, 13):\n",
    "    #print(t)\n",
    "    model += (num_hired[t] >= 0,       \"\")\n",
    "    model += (num_fired[t] >= 0,       \"\")\n",
    "    model += (num_inventory[t] >= 0,   \"\")\n",
    "    model += (num_production[t] >= 0,  \"\")\n",
    "    model += (num_workforce[t] >= 0,   \"\")\n",
    "    model += (num_subcontract[t] >= 0, \"\")\n",
    "\n",
    "# Terminate constraint\n",
    "model += num_inventory[12] >= 24000000\n",
    "\n",
    "# Intial workforce and inventory constraints\n",
    "model += (num_workforce[0] == 64000)\n",
    "model += (num_inventory[0] == 1000000)\n",
    "\n",
    "# Relationship between production and workforce\n",
    "for t in range(1, 13):\n",
    "    #print(t)\n",
    "    model += (num_production[t] == (8 * 12) * work_days[t-1] * num_workforce[t],  \"\")\n",
    "\n",
    "# Conservation of inventory level\n",
    "for t in range(1, 13):\n",
    "    #print(t)\n",
    "    model += (num_inventory[t] == num_inventory[t-1] + num_production[t] + num_subcontract[t] - demand[t-1],  \"\")\n",
    "\n",
    "# Conservation of workforce level\n",
    "for t in range(1, 13):\n",
    "    #print(t)\n",
    "    model += (num_workforce[t] == num_workforce[t-1] + num_hired[t] - num_fired[t],  \"\")\n"
   ]
  },
  {
   "attachments": {},
   "cell_type": "markdown",
   "metadata": {},
   "source": [
    "## Setting the Objective Function"
   ]
  },
  {
   "cell_type": "code",
   "execution_count": 42,
   "metadata": {},
   "outputs": [
    {
     "name": "stderr",
     "output_type": "stream",
     "text": [
      "C:\\Users\\conor\\AppData\\Local\\Packages\\PythonSoftwareFoundation.Python.3.10_qbz5n2kfra8p0\\LocalCache\\local-packages\\Python310\\site-packages\\pulp\\pulp.py:1704: UserWarning: Overwriting previously set objective.\n",
      "  warnings.warn(\"Overwriting previously set objective.\")\n"
     ]
    }
   ],
   "source": [
    "# Set objective\n",
    "model += lpSum([(320 * num_hired[t]) + (600 * num_fired[t]) + (0.5 * num_inventory[t]) + (4 * num_production[t]) + (4.2 * num_subcontract[t]) for t in range(1, 13)])"
   ]
  },
  {
   "attachments": {},
   "cell_type": "markdown",
   "metadata": {},
   "source": [
    "## Solving the Problem"
   ]
  },
  {
   "cell_type": "code",
   "execution_count": 54,
   "metadata": {},
   "outputs": [],
   "source": [
    "# Solve the optimization problem\n",
    "status = model.solve()"
   ]
  },
  {
   "attachments": {},
   "cell_type": "markdown",
   "metadata": {},
   "source": [
    "## Optimal Number of People Hired for Each Month"
   ]
  },
  {
   "cell_type": "code",
   "execution_count": 55,
   "metadata": {},
   "outputs": [
    {
     "name": "stdout",
     "output_type": "stream",
     "text": [
      "Number of People Hired in January: 375.0\n",
      "Number of People Hired in February: 0.0\n",
      "Number of People Hired in March: 0.0\n",
      "Number of People Hired in April: 0.0\n",
      "Number of People Hired in May: 0.0\n",
      "Number of People Hired in June: 0.0\n",
      "Number of People Hired in July: 0.0\n",
      "Number of People Hired in August: 0.0\n",
      "Number of People Hired in September: 18750.0\n",
      "Number of People Hired in October: 0.0\n",
      "Number of People Hired in November: 18750.0\n",
      "Number of People Hired in December: 0.0\n"
     ]
    }
   ],
   "source": [
    "num = 1\n",
    "for var in num_hired.values():\n",
    "    print(f\"Number of People Hired in {calendar.month_name[num]}: {var.value()}\")\n",
    "    num += 1"
   ]
  },
  {
   "attachments": {},
   "cell_type": "markdown",
   "metadata": {},
   "source": [
    "## Optimal Number of People Fired for Each Month"
   ]
  },
  {
   "cell_type": "code",
   "execution_count": 52,
   "metadata": {},
   "outputs": [
    {
     "name": "stdout",
     "output_type": "stream",
     "text": [
      "Number of People Fired in January: 0.0\n",
      "Number of People Fired in February: 0.0\n",
      "Number of People Fired in March: 0.0\n",
      "Number of People Fired in April: 0.0\n",
      "Number of People Fired in May: 8125.0\n",
      "Number of People Fired in June: 18750.0\n",
      "Number of People Fired in July: 0.0\n",
      "Number of People Fired in August: 0.0\n",
      "Number of People Fired in September: 0.0\n",
      "Number of People Fired in October: 0.0\n",
      "Number of People Fired in November: 0.0\n",
      "Number of People Fired in December: 0.0\n"
     ]
    }
   ],
   "source": [
    "num = 1\n",
    "for var in num_fired.values():\n",
    "    print(f\"Number of People Fired in {calendar.month_name[num]}: {var.value()}\")\n",
    "    num += 1"
   ]
  },
  {
   "attachments": {},
   "cell_type": "markdown",
   "metadata": {},
   "source": [
    "## Optimal Number of Units Subcontracted for Each Month"
   ]
  },
  {
   "cell_type": "code",
   "execution_count": 53,
   "metadata": {},
   "outputs": [
    {
     "name": "stdout",
     "output_type": "stream",
     "text": [
      "Number of Units Subcontracted in January: 19400000.0\n",
      "Number of Units Subcontracted in February: 10800000.0\n",
      "Number of Units Subcontracted in March: 0.0\n",
      "Number of Units Subcontracted in April: 20400000.0\n",
      "Number of Units Subcontracted in May: 0.0\n",
      "Number of Units Subcontracted in June: 0.0\n",
      "Number of Units Subcontracted in July: 0.0\n",
      "Number of Units Subcontracted in August: 0.0\n",
      "Number of Units Subcontracted in September: 12000000.0\n",
      "Number of Units Subcontracted in October: 0.0\n",
      "Number of Units Subcontracted in November: 0.0\n",
      "Number of Units Subcontracted in December: 0.0\n"
     ]
    }
   ],
   "source": [
    "num = 1\n",
    "for var in num_subcontract.values():\n",
    "    print(f\"Number of Units Subcontracted in {calendar.month_name[num]}: {var.value()}\")\n",
    "    num += 1"
   ]
  },
  {
   "attachments": {},
   "cell_type": "markdown",
   "metadata": {},
   "source": [
    "## Minimized Total Cost"
   ]
  },
  {
   "cell_type": "code",
   "execution_count": 58,
   "metadata": {},
   "outputs": [
    {
     "name": "stdout",
     "output_type": "stream",
     "text": [
      "Minimized Total Cost: $5,592,765,000.00\n"
     ]
    }
   ],
   "source": [
    "# Get the results\n",
    "print(f\"Minimized Total Cost: ${model.objective.value():,.2f}\")"
   ]
  }
 ],
 "metadata": {
  "kernelspec": {
   "display_name": "Python 3",
   "language": "python",
   "name": "python3"
  },
  "language_info": {
   "codemirror_mode": {
    "name": "ipython",
    "version": 3
   },
   "file_extension": ".py",
   "mimetype": "text/x-python",
   "name": "python",
   "nbconvert_exporter": "python",
   "pygments_lexer": "ipython3",
   "version": "3.10.10"
  },
  "orig_nbformat": 4,
  "vscode": {
   "interpreter": {
    "hash": "2d5c47b936c9dc2eb71acfa19777392a851823f2afe221dc0e29c7ad91feb6d6"
   }
  }
 },
 "nbformat": 4,
 "nbformat_minor": 2
}
